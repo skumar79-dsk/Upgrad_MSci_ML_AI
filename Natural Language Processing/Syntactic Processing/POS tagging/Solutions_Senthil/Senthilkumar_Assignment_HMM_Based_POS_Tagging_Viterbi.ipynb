{
 "cells": [
  {
   "cell_type": "markdown",
   "metadata": {},
   "source": [
    "Assignment - Syntactic Analysis\n",
    "\n",
    "Problem Statement: HMMs and Viterbi algorithm for POS tagging"
   ]
  },
  {
   "cell_type": "code",
   "execution_count": 1,
   "metadata": {},
   "outputs": [],
   "source": [
    "#Importing libraries\n",
    "\n",
    "import nltk, re\n",
    "import numpy as np\n",
    "import pandas as pd\n",
    "import requests\n",
    "import matplotlib.pyplot as plt\n",
    "import seaborn as sns\n",
    "import random\n",
    "from sklearn.model_selection import train_test_split\n",
    "from nltk.tokenize import word_tokenize"
   ]
  },
  {
   "cell_type": "code",
   "execution_count": 2,
   "metadata": {},
   "outputs": [
    {
     "data": {
      "text/plain": [
       "[[('Pierre', 'NOUN'),\n",
       "  ('Vinken', 'NOUN'),\n",
       "  (',', '.'),\n",
       "  ('61', 'NUM'),\n",
       "  ('years', 'NOUN'),\n",
       "  ('old', 'ADJ'),\n",
       "  (',', '.'),\n",
       "  ('will', 'VERB'),\n",
       "  ('join', 'VERB'),\n",
       "  ('the', 'DET'),\n",
       "  ('board', 'NOUN'),\n",
       "  ('as', 'ADP'),\n",
       "  ('a', 'DET'),\n",
       "  ('nonexecutive', 'ADJ'),\n",
       "  ('director', 'NOUN'),\n",
       "  ('Nov.', 'NOUN'),\n",
       "  ('29', 'NUM'),\n",
       "  ('.', '.')],\n",
       " [('Mr.', 'NOUN'),\n",
       "  ('Vinken', 'NOUN'),\n",
       "  ('is', 'VERB'),\n",
       "  ('chairman', 'NOUN'),\n",
       "  ('of', 'ADP'),\n",
       "  ('Elsevier', 'NOUN'),\n",
       "  ('N.V.', 'NOUN'),\n",
       "  (',', '.'),\n",
       "  ('the', 'DET'),\n",
       "  ('Dutch', 'NOUN'),\n",
       "  ('publishing', 'VERB'),\n",
       "  ('group', 'NOUN'),\n",
       "  ('.', '.')]]"
      ]
     },
     "execution_count": 2,
     "metadata": {},
     "output_type": "execute_result"
    }
   ],
   "source": [
    "# reading the Treebank tagged sentences\n",
    "nltk_data = list(nltk.corpus.treebank.tagged_sents(tagset='universal'))\n",
    "nltk_data[:2]"
   ]
  },
  {
   "cell_type": "code",
   "execution_count": 3,
   "metadata": {},
   "outputs": [
    {
     "name": "stdout",
     "output_type": "stream",
     "text": [
      "Training Set Length - 3718\n",
      "Training Set Length - 196\n",
      "------------------------------------------------------------------------------------------------------------------------\n",
      "Training Data Glimpse -\n",
      "\n",
      "[[('Buying', 'VERB'), ('for', 'ADP'), ('the', 'DET'), ('most', 'ADJ'), ('part', 'NOUN'), ('carried', 'VERB'), ('over', 'PRT'), ('from', 'ADP'), ('the', 'DET'), ('previous', 'ADJ'), ('session', 'NOUN'), (',', '.'), ('and', 'CONJ'), ('traders', 'NOUN'), ('apparently', 'ADV'), ('ignored', 'VERB'), ('reports', 'NOUN'), ('that', 'ADP'), ('a', 'DET'), ('Chilean', 'ADJ'), ('mine', 'ADJ'), ('strike', 'NOUN'), ('may', 'VERB'), ('have', 'VERB'), ('ended', 'VERB'), ('almost', 'ADV'), ('before', 'ADP'), ('it', 'PRON'), ('began', 'VERB'), (',', '.'), ('an', 'DET'), ('analyst', 'NOUN'), ('said', 'VERB'), ('0', 'X'), ('*T*-1', 'X'), ('.', '.')], [('Both', 'DET'), ('sides', 'NOUN'), ('have', 'VERB'), ('agreed', 'VERB'), ('that', 'ADP'), ('the', 'DET'), ('talks', 'NOUN'), ('will', 'VERB'), ('be', 'VERB'), ('most', 'ADV'), ('successful', 'ADJ'), ('if', 'ADP'), ('negotiators', 'NOUN'), ('start', 'VERB'), ('by', 'ADP'), ('*', 'X'), ('focusing', 'VERB'), ('on', 'ADP'), ('the', 'DET'), ('areas', 'NOUN'), ('that', 'DET'), ('*T*-186', 'X'), ('can', 'VERB'), ('be', 'VERB'), ('most', 'ADV'), ('easily', 'ADV'), ('changed', 'VERB'), ('*-1', 'X'), ('.', '.')], [('``', '.'), ('My', 'PRON'), ('stocks', 'NOUN'), ('are', 'VERB'), ('all', 'ADV'), ('blue', 'ADJ'), ('chips', 'NOUN'), (',', '.'), (\"''\", '.'), ('she', 'PRON'), ('says', 'VERB'), ('*T*-1', 'X'), ('.', '.')], [('``', '.'), ('I', 'PRON'), ('sense', 'VERB'), ('that', 'ADP'), ('some', 'DET'), ('people', 'NOUN'), ('are', 'VERB'), ('reluctant', 'ADJ'), ('*-2', 'X'), ('to', 'PRT'), ('stick', 'VERB'), ('their', 'PRON'), ('necks', 'NOUN'), ('out', 'PRT'), ('in', 'ADP'), ('any', 'DET'), ('aggressive', 'ADJ'), ('way', 'NOUN'), ('until', 'ADP'), ('after', 'ADP'), ('the', 'DET'), ('figures', 'NOUN'), ('come', 'VERB'), ('out', 'ADP'), (',', '.'), (\"''\", '.'), ('said', 'VERB'), ('*T*-1', 'X'), ('Richard', 'NOUN'), ('Eakle', 'NOUN'), (',', '.'), ('president', 'NOUN'), ('of', 'ADP'), ('Eakle', 'NOUN'), ('Associates', 'NOUN'), (',', '.'), ('Fair', 'NOUN'), ('Haven', 'NOUN'), (',', '.')], [('And', 'CONJ'), ('executives', 'NOUN'), ('at', 'ADP'), ('stations', 'NOUN'), ('in', 'ADP'), ('such', 'ADJ'), ('major', 'ADJ'), ('markets', 'NOUN'), ('as', 'ADP'), ('Washington', 'NOUN'), (';', '.'), ('Providence', 'NOUN'), (',', '.'), ('R.I.', 'NOUN'), (';', '.'), ('Cleveland', 'NOUN'), (';', '.'), ('Raleigh', 'NOUN'), (',', '.'), ('N.C.', 'NOUN'), (';', '.'), ('Minneapolis', 'NOUN'), (',', '.'), ('and', 'CONJ'), ('Louisville', 'NOUN'), (',', '.'), ('Ky.', 'NOUN'), (',', '.'), ('say', 'VERB'), ('0', 'X'), ('they', 'PRON'), ('may', 'VERB'), ('very', 'ADV'), ('well', 'ADV'), ('not', 'ADV'), ('renew', 'VERB'), ('``', '.'), ('Cosby', 'NOUN'), ('.', '.'), (\"''\", '.')], [('Also', 'ADV'), (',', '.'), ('substantially', 'ADV'), ('lower', 'ADJ'), ('Dutch', 'ADJ'), ('corporate', 'ADJ'), ('tax', 'NOUN'), ('rates', 'NOUN'), ('helped', 'VERB'), ('the', 'DET'), ('company', 'NOUN'), ('keep', 'VERB'), ('its', 'PRON'), ('tax', 'NOUN'), ('outlay', 'NOUN'), ('flat', 'ADJ'), ('relative', 'ADJ'), ('to', 'PRT'), ('earnings', 'NOUN'), ('growth', 'NOUN'), (',', '.'), ('the', 'DET'), ('company', 'NOUN'), ('added', 'VERB'), ('0', 'X'), ('*T*-1', 'X'), ('.', '.')], [('The', 'DET'), ('First', 'NOUN'), ('World', 'NOUN'), ('has', 'VERB'), ('for', 'ADP'), ('some', 'DET'), ('time', 'NOUN'), ('had', 'VERB'), ('the', 'DET'), ('bad', 'ADJ'), ('habit', 'NOUN'), ('of', 'ADP'), ('*', 'X'), ('smothering', 'VERB'), ('other', 'ADJ'), ('people', 'NOUN'), (\"'s\", 'PRT'), ('economies', 'NOUN'), ('with', 'ADP'), ('this', 'DET'), ('kind', 'NOUN'), ('of', 'ADP'), ('unfocused', 'ADJ'), ('kindness', 'NOUN'), ('.', '.')], [('``', '.'), ('Argentina', 'NOUN'), ('aspires', 'VERB'), ('*-2', 'X'), ('to', 'PRT'), ('reach', 'VERB'), ('a', 'DET'), ('reduction', 'NOUN'), ('of', 'ADP'), ('50', 'NUM'), ('%', 'NOUN'), ('in', 'ADP'), ('the', 'DET'), ('value', 'NOUN'), ('of', 'ADP'), ('its', 'PRON'), ('external', 'ADJ'), ('debt', 'NOUN'), (',', '.'), (\"''\", '.'), ('Mr.', 'NOUN'), ('Rapanelli', 'NOUN'), ('said', 'VERB'), ('*T*-1', 'X'), ('through', 'ADP'), ('his', 'PRON'), ('spokesman', 'NOUN'), (',', '.'), ('Miguel', 'NOUN'), ('Alurralde', 'NOUN'), ('.', '.')], [('-LRB-', '.'), ('During', 'ADP'), ('its', 'PRON'), ('centennial', 'NOUN'), ('year', 'NOUN'), (',', '.'), ('The', 'NOUN'), ('Wall', 'NOUN'), ('Street', 'NOUN'), ('Journal', 'NOUN'), ('will', 'VERB'), ('report', 'VERB'), ('events', 'NOUN'), ('of', 'ADP'), ('the', 'DET'), ('past', 'ADJ'), ('century', 'NOUN'), ('that', 'DET'), ('*T*-30', 'X'), ('stand', 'VERB'), ('as', 'ADP'), ('milestones', 'NOUN'), ('of', 'ADP'), ('American', 'ADJ'), ('business', 'NOUN'), ('history', 'NOUN'), ('.', '.'), ('-RRB-', '.')], [('In', 'ADP'), ('addition', 'NOUN'), (',', '.'), ('the', 'DET'), ('U.S.', 'NOUN'), ('this', 'DET'), ('year', 'NOUN'), ('offered', 'VERB'), ('its', 'PRON'), ('own', 'ADJ'), ('plan', 'NOUN'), ('for', 'ADP'), ('cooperation', 'NOUN'), ('around', 'ADP'), ('the', 'DET'), ('Pacific', 'NOUN'), ('rim', 'NOUN'), ('in', 'ADP'), ('a', 'DET'), ('major', 'ADJ'), ('speech', 'NOUN'), ('by', 'ADP'), ('Secretary', 'NOUN'), ('of', 'ADP'), ('State', 'NOUN'), ('James', 'NOUN'), ('Baker', 'NOUN'), (',', '.'), ('following', 'VERB'), ('up', 'PRT'), ('a', 'DET'), ('proposal', 'NOUN'), ('made', 'VERB'), ('*', 'X'), ('in', 'ADP'), ('January', 'NOUN'), ('by', 'ADP'), ('Australian', 'NOUN'), ('Prime', 'NOUN'), ('Minister', 'NOUN'), ('Bob', 'NOUN'), ('Hawke', 'NOUN'), ('.', '.')]]\n"
     ]
    }
   ],
   "source": [
    "# Splitting into train and test\n",
    "random.seed(1234)\n",
    "train_set, test_set = train_test_split(nltk_data, test_size=0.05)\n",
    "\n",
    "print(\"Training Set Length -\", len(train_set))\n",
    "print(\"Training Set Length -\", len(test_set))\n",
    "print(\"-\" * 120)\n",
    "print(\"Training Data Glimpse -\\n\")\n",
    "print(train_set[:10])"
   ]
  },
  {
   "cell_type": "code",
   "execution_count": 4,
   "metadata": {},
   "outputs": [
    {
     "data": {
      "text/plain": [
       "95359"
      ]
     },
     "execution_count": 4,
     "metadata": {},
     "output_type": "execute_result"
    }
   ],
   "source": [
    "# Getting list of tagged words\n",
    "\n",
    "train_tagged_words = [tup for sent in train_set for tup in sent]\n",
    "len(train_tagged_words)"
   ]
  },
  {
   "cell_type": "code",
   "execution_count": 5,
   "metadata": {},
   "outputs": [
    {
     "data": {
      "text/plain": [
       "[('Buying', 'VERB'),\n",
       " ('for', 'ADP'),\n",
       " ('the', 'DET'),\n",
       " ('most', 'ADJ'),\n",
       " ('part', 'NOUN'),\n",
       " ('carried', 'VERB'),\n",
       " ('over', 'PRT'),\n",
       " ('from', 'ADP'),\n",
       " ('the', 'DET'),\n",
       " ('previous', 'ADJ')]"
      ]
     },
     "execution_count": 5,
     "metadata": {},
     "output_type": "execute_result"
    }
   ],
   "source": [
    "# Let's have a look at the tagged words in the training set\n",
    "\n",
    "train_tagged_words[:10]"
   ]
  },
  {
   "cell_type": "code",
   "execution_count": 6,
   "metadata": {},
   "outputs": [
    {
     "data": {
      "text/plain": [
       "['Buying',\n",
       " 'for',\n",
       " 'the',\n",
       " 'most',\n",
       " 'part',\n",
       " 'carried',\n",
       " 'over',\n",
       " 'from',\n",
       " 'the',\n",
       " 'previous']"
      ]
     },
     "execution_count": 6,
     "metadata": {},
     "output_type": "execute_result"
    }
   ],
   "source": [
    "# tokens in the train set - train_tagged_words\n",
    "\n",
    "train_data_tokens = [pair[0] for pair in train_tagged_words]\n",
    "train_data_tokens[:10]"
   ]
  },
  {
   "cell_type": "code",
   "execution_count": 7,
   "metadata": {},
   "outputs": [
    {
     "data": {
      "text/plain": [
       "['VERB', 'ADP', 'DET', 'ADJ', 'NOUN', 'VERB', 'PRT', 'ADP', 'DET', 'ADJ']"
      ]
     },
     "execution_count": 7,
     "metadata": {},
     "output_type": "execute_result"
    }
   ],
   "source": [
    "# POS tags for the tokens in the train set -\n",
    "\n",
    "train_data_pos_tags = [pair[1] for pair in train_tagged_words]\n",
    "train_data_pos_tags[:10]"
   ]
  },
  {
   "cell_type": "code",
   "execution_count": 8,
   "metadata": {},
   "outputs": [],
   "source": [
    "# building the train vocabulary to a set\n",
    "\n",
    "training_vocabulary_set = set(train_data_tokens)"
   ]
  },
  {
   "cell_type": "code",
   "execution_count": 9,
   "metadata": {},
   "outputs": [],
   "source": [
    "# building the POS tags to a set\n",
    "\n",
    "training_pos_tag_set = set(train_data_pos_tags)"
   ]
  },
  {
   "cell_type": "code",
   "execution_count": 10,
   "metadata": {},
   "outputs": [
    {
     "name": "stdout",
     "output_type": "stream",
     "text": [
      "Length : \n",
      "Vocabulary: 12073 \n",
      "Tags: 12\n",
      "\n",
      "Available Tags :\n",
      "\n",
      "{'X', 'CONJ', 'PRON', 'DET', 'NUM', 'NOUN', 'PRT', '.', 'ADV', 'VERB', 'ADJ', 'ADP'}\n"
     ]
    }
   ],
   "source": [
    "print(\"Length : \\nVocabulary: {} \\nTags: {}\".format(len(training_vocabulary_set), len(training_pos_tag_set)))\n",
    "print(\"\\nAvailable Tags :\\n\")\n",
    "print(training_pos_tag_set)"
   ]
  },
  {
   "cell_type": "code",
   "execution_count": 11,
   "metadata": {},
   "outputs": [],
   "source": [
    "# computing P(w/t) and storing in [Tags x Vocabulary] matrix. This is a matrix with dimension\n",
    "# of len(training_pos_tag_set) X en(training_vocabulary_set)\n",
    "\n",
    "len_pos_tags = len(training_pos_tag_set)\n",
    "len_vocab = len(training_vocabulary_set)\n",
    "\n",
    "word_given_tag = np.zeros((len_pos_tags, len_vocab))"
   ]
  },
  {
   "cell_type": "code",
   "execution_count": 12,
   "metadata": {},
   "outputs": [],
   "source": [
    "# compute word given tag: Emission Probability\n",
    "\n",
    "def word_given_tag(word, tag, train_bag = train_tagged_words):\n",
    "    tag_list = [pair for pair in train_bag if pair[1]==tag]\n",
    "    count_tag = len(tag_list)\n",
    "    w_given_tag_list = [pair[0] for pair in tag_list if pair[0]==word]\n",
    "    count_w_given_tag = len(w_given_tag_list)\n",
    "    \n",
    "    return (count_w_given_tag, count_tag)"
   ]
  },
  {
   "cell_type": "code",
   "execution_count": 13,
   "metadata": {},
   "outputs": [],
   "source": [
    "# compute tag given tag: tag2(t2) given tag1 (t1), i.e. Transition Probability\n",
    "\n",
    "def t2_given_t1(t2, t1, train_bag = train_tagged_words):\n",
    "    tags = [pair[1] for pair in train_bag]\n",
    "    count_t1 = len([t for t in tags if t==t1])\n",
    "    count_t2_t1 = 0\n",
    "    for index in range(len(tags)-1):\n",
    "        if tags[index]==t1 and tags[index+1] == t2:\n",
    "            count_t2_t1 += 1\n",
    "    return (count_t2_t1, count_t1)"
   ]
  },
  {
   "cell_type": "code",
   "execution_count": 14,
   "metadata": {},
   "outputs": [
    {
     "data": {
      "text/plain": [
       "array([[7.42866248e-02, 1.05212815e-02, 5.70699833e-02, 5.51570207e-02,\n",
       "        2.71002715e-03, 6.24900348e-02, 1.85238317e-01, 1.61326319e-01,\n",
       "        2.53467243e-02, 2.05802649e-01, 1.67384036e-02, 1.43312603e-01],\n",
       "       [8.85368139e-03, 4.65983234e-04, 5.82479015e-02, 1.17893755e-01,\n",
       "        3.96085754e-02, 3.52283329e-01, 4.65983246e-03, 3.54147255e-02,\n",
       "        5.49860187e-02, 1.57036349e-01, 1.20223671e-01, 5.03261872e-02],\n",
       "       [9.11538452e-02, 5.38461516e-03, 7.30769243e-03, 9.61538497e-03,\n",
       "        6.53846143e-03, 2.08846152e-01, 1.23076923e-02, 4.03846167e-02,\n",
       "        3.46153863e-02, 4.85769242e-01, 7.50000030e-02, 2.30769236e-02],\n",
       "       [4.60829511e-02, 4.85083670e-04, 3.39558581e-03, 5.69973327e-03,\n",
       "        2.24351194e-02, 6.37521207e-01, 2.42541835e-04, 1.72204711e-02,\n",
       "        1.28547177e-02, 3.98981310e-02, 2.05432937e-01, 8.73150583e-03],\n",
       "       [2.10114390e-01, 1.29440101e-02, 1.50511740e-03, 3.01023480e-03,\n",
       "        1.85430467e-01, 3.53100538e-01, 2.76941601e-02, 1.16496086e-01,\n",
       "        2.40818784e-03, 1.74593627e-02, 3.34136076e-02, 3.64238396e-02],\n",
       "       [2.91216020e-02, 4.26775813e-02, 4.60391678e-03, 1.32271266e-02,\n",
       "        9.60976351e-03, 2.64725238e-01, 4.37372103e-02, 2.40390241e-01,\n",
       "        1.69175677e-02, 1.46850333e-01, 1.20213386e-02, 1.76118091e-01],\n",
       "       [1.31362891e-02, 2.29885057e-03, 1.83908045e-02, 1.00164205e-01,\n",
       "        5.81280775e-02, 2.47290641e-01, 1.64203614e-03, 4.20361236e-02,\n",
       "        9.85221658e-03, 4.02298838e-01, 8.44006538e-02, 2.03612484e-02],\n",
       "       [2.69442201e-02, 5.79435900e-02, 6.56033158e-02, 1.74371451e-01,\n",
       "        8.02018568e-02, 2.23213479e-01, 2.25286116e-03, 9.31783393e-02,\n",
       "        5.19960336e-02, 8.94836411e-02, 4.40659635e-02, 9.06551331e-02],\n",
       "       [2.27272734e-02, 6.68449188e-03, 1.50401071e-02, 6.75133690e-02,\n",
       "        3.07486635e-02, 3.17513384e-02, 1.43716577e-02, 1.38034761e-01,\n",
       "        8.02139044e-02, 3.44251335e-01, 1.31016046e-01, 1.17647059e-01],\n",
       "       [2.18883455e-01, 5.35755884e-03, 3.57170589e-02, 1.33007228e-01,\n",
       "        2.28278600e-02, 1.10645235e-01, 3.08253746e-02, 3.53288315e-02,\n",
       "        8.10621977e-02, 1.69034868e-01, 6.58436194e-02, 9.14667323e-02],\n",
       "       [2.10699588e-02, 1.69547331e-02, 6.58436213e-04, 4.77366243e-03,\n",
       "        1.89300403e-02, 6.98765457e-01, 1.08641973e-02, 6.53497949e-02,\n",
       "        4.77366243e-03, 1.23456791e-02, 6.73251003e-02, 7.81892985e-02],\n",
       "       [3.45641896e-02, 8.58737680e-04, 6.93430677e-02, 3.24066132e-01,\n",
       "        6.12923987e-02, 3.22778016e-01, 1.50279095e-03, 3.96092758e-02,\n",
       "        1.37398029e-02, 8.69471859e-03, 1.06054097e-01, 1.74967796e-02]],\n",
       "      dtype=float32)"
      ]
     },
     "execution_count": 14,
     "metadata": {},
     "output_type": "execute_result"
    }
   ],
   "source": [
    "# creating t x t transition matrix of tags\n",
    "# each column is t2, each row is t1\n",
    "# thus M(i, j) represents P(tj given ti)\n",
    "\n",
    "tags_matrix = np.zeros((len_pos_tags, len_pos_tags), dtype='float32')\n",
    "for i, t1 in enumerate(list(training_pos_tag_set)):\n",
    "    for j, t2 in enumerate(list(training_pos_tag_set)): \n",
    "        tags_matrix[i, j] = t2_given_t1(t2, t1)[0]/t2_given_t1(t2, t1)[1]\n",
    "\n",
    "# Let's have a glimpse into the transition matrix\n",
    "tags_matrix"
   ]
  },
  {
   "cell_type": "code",
   "execution_count": 15,
   "metadata": {},
   "outputs": [
    {
     "data": {
      "text/html": [
       "<div>\n",
       "<style scoped>\n",
       "    .dataframe tbody tr th:only-of-type {\n",
       "        vertical-align: middle;\n",
       "    }\n",
       "\n",
       "    .dataframe tbody tr th {\n",
       "        vertical-align: top;\n",
       "    }\n",
       "\n",
       "    .dataframe thead th {\n",
       "        text-align: right;\n",
       "    }\n",
       "</style>\n",
       "<table border=\"1\" class=\"dataframe\">\n",
       "  <thead>\n",
       "    <tr style=\"text-align: right;\">\n",
       "      <th></th>\n",
       "      <th>X</th>\n",
       "      <th>CONJ</th>\n",
       "      <th>PRON</th>\n",
       "      <th>DET</th>\n",
       "      <th>NUM</th>\n",
       "      <th>NOUN</th>\n",
       "      <th>PRT</th>\n",
       "      <th>.</th>\n",
       "      <th>ADV</th>\n",
       "      <th>VERB</th>\n",
       "      <th>ADJ</th>\n",
       "      <th>ADP</th>\n",
       "    </tr>\n",
       "  </thead>\n",
       "  <tbody>\n",
       "    <tr>\n",
       "      <th>X</th>\n",
       "      <td>0.074287</td>\n",
       "      <td>0.010521</td>\n",
       "      <td>0.057070</td>\n",
       "      <td>0.055157</td>\n",
       "      <td>0.002710</td>\n",
       "      <td>0.062490</td>\n",
       "      <td>0.185238</td>\n",
       "      <td>0.161326</td>\n",
       "      <td>0.025347</td>\n",
       "      <td>0.205803</td>\n",
       "      <td>0.016738</td>\n",
       "      <td>0.143313</td>\n",
       "    </tr>\n",
       "    <tr>\n",
       "      <th>CONJ</th>\n",
       "      <td>0.008854</td>\n",
       "      <td>0.000466</td>\n",
       "      <td>0.058248</td>\n",
       "      <td>0.117894</td>\n",
       "      <td>0.039609</td>\n",
       "      <td>0.352283</td>\n",
       "      <td>0.004660</td>\n",
       "      <td>0.035415</td>\n",
       "      <td>0.054986</td>\n",
       "      <td>0.157036</td>\n",
       "      <td>0.120224</td>\n",
       "      <td>0.050326</td>\n",
       "    </tr>\n",
       "    <tr>\n",
       "      <th>PRON</th>\n",
       "      <td>0.091154</td>\n",
       "      <td>0.005385</td>\n",
       "      <td>0.007308</td>\n",
       "      <td>0.009615</td>\n",
       "      <td>0.006538</td>\n",
       "      <td>0.208846</td>\n",
       "      <td>0.012308</td>\n",
       "      <td>0.040385</td>\n",
       "      <td>0.034615</td>\n",
       "      <td>0.485769</td>\n",
       "      <td>0.075000</td>\n",
       "      <td>0.023077</td>\n",
       "    </tr>\n",
       "    <tr>\n",
       "      <th>DET</th>\n",
       "      <td>0.046083</td>\n",
       "      <td>0.000485</td>\n",
       "      <td>0.003396</td>\n",
       "      <td>0.005700</td>\n",
       "      <td>0.022435</td>\n",
       "      <td>0.637521</td>\n",
       "      <td>0.000243</td>\n",
       "      <td>0.017220</td>\n",
       "      <td>0.012855</td>\n",
       "      <td>0.039898</td>\n",
       "      <td>0.205433</td>\n",
       "      <td>0.008732</td>\n",
       "    </tr>\n",
       "    <tr>\n",
       "      <th>NUM</th>\n",
       "      <td>0.210114</td>\n",
       "      <td>0.012944</td>\n",
       "      <td>0.001505</td>\n",
       "      <td>0.003010</td>\n",
       "      <td>0.185430</td>\n",
       "      <td>0.353101</td>\n",
       "      <td>0.027694</td>\n",
       "      <td>0.116496</td>\n",
       "      <td>0.002408</td>\n",
       "      <td>0.017459</td>\n",
       "      <td>0.033414</td>\n",
       "      <td>0.036424</td>\n",
       "    </tr>\n",
       "    <tr>\n",
       "      <th>NOUN</th>\n",
       "      <td>0.029122</td>\n",
       "      <td>0.042678</td>\n",
       "      <td>0.004604</td>\n",
       "      <td>0.013227</td>\n",
       "      <td>0.009610</td>\n",
       "      <td>0.264725</td>\n",
       "      <td>0.043737</td>\n",
       "      <td>0.240390</td>\n",
       "      <td>0.016918</td>\n",
       "      <td>0.146850</td>\n",
       "      <td>0.012021</td>\n",
       "      <td>0.176118</td>\n",
       "    </tr>\n",
       "    <tr>\n",
       "      <th>PRT</th>\n",
       "      <td>0.013136</td>\n",
       "      <td>0.002299</td>\n",
       "      <td>0.018391</td>\n",
       "      <td>0.100164</td>\n",
       "      <td>0.058128</td>\n",
       "      <td>0.247291</td>\n",
       "      <td>0.001642</td>\n",
       "      <td>0.042036</td>\n",
       "      <td>0.009852</td>\n",
       "      <td>0.402299</td>\n",
       "      <td>0.084401</td>\n",
       "      <td>0.020361</td>\n",
       "    </tr>\n",
       "    <tr>\n",
       "      <th>.</th>\n",
       "      <td>0.026944</td>\n",
       "      <td>0.057944</td>\n",
       "      <td>0.065603</td>\n",
       "      <td>0.174371</td>\n",
       "      <td>0.080202</td>\n",
       "      <td>0.223213</td>\n",
       "      <td>0.002253</td>\n",
       "      <td>0.093178</td>\n",
       "      <td>0.051996</td>\n",
       "      <td>0.089484</td>\n",
       "      <td>0.044066</td>\n",
       "      <td>0.090655</td>\n",
       "    </tr>\n",
       "    <tr>\n",
       "      <th>ADV</th>\n",
       "      <td>0.022727</td>\n",
       "      <td>0.006684</td>\n",
       "      <td>0.015040</td>\n",
       "      <td>0.067513</td>\n",
       "      <td>0.030749</td>\n",
       "      <td>0.031751</td>\n",
       "      <td>0.014372</td>\n",
       "      <td>0.138035</td>\n",
       "      <td>0.080214</td>\n",
       "      <td>0.344251</td>\n",
       "      <td>0.131016</td>\n",
       "      <td>0.117647</td>\n",
       "    </tr>\n",
       "    <tr>\n",
       "      <th>VERB</th>\n",
       "      <td>0.218883</td>\n",
       "      <td>0.005358</td>\n",
       "      <td>0.035717</td>\n",
       "      <td>0.133007</td>\n",
       "      <td>0.022828</td>\n",
       "      <td>0.110645</td>\n",
       "      <td>0.030825</td>\n",
       "      <td>0.035329</td>\n",
       "      <td>0.081062</td>\n",
       "      <td>0.169035</td>\n",
       "      <td>0.065844</td>\n",
       "      <td>0.091467</td>\n",
       "    </tr>\n",
       "    <tr>\n",
       "      <th>ADJ</th>\n",
       "      <td>0.021070</td>\n",
       "      <td>0.016955</td>\n",
       "      <td>0.000658</td>\n",
       "      <td>0.004774</td>\n",
       "      <td>0.018930</td>\n",
       "      <td>0.698765</td>\n",
       "      <td>0.010864</td>\n",
       "      <td>0.065350</td>\n",
       "      <td>0.004774</td>\n",
       "      <td>0.012346</td>\n",
       "      <td>0.067325</td>\n",
       "      <td>0.078189</td>\n",
       "    </tr>\n",
       "    <tr>\n",
       "      <th>ADP</th>\n",
       "      <td>0.034564</td>\n",
       "      <td>0.000859</td>\n",
       "      <td>0.069343</td>\n",
       "      <td>0.324066</td>\n",
       "      <td>0.061292</td>\n",
       "      <td>0.322778</td>\n",
       "      <td>0.001503</td>\n",
       "      <td>0.039609</td>\n",
       "      <td>0.013740</td>\n",
       "      <td>0.008695</td>\n",
       "      <td>0.106054</td>\n",
       "      <td>0.017497</td>\n",
       "    </tr>\n",
       "  </tbody>\n",
       "</table>\n",
       "</div>"
      ],
      "text/plain": [
       "             X      CONJ      PRON       DET       NUM      NOUN       PRT  \\\n",
       "X     0.074287  0.010521  0.057070  0.055157  0.002710  0.062490  0.185238   \n",
       "CONJ  0.008854  0.000466  0.058248  0.117894  0.039609  0.352283  0.004660   \n",
       "PRON  0.091154  0.005385  0.007308  0.009615  0.006538  0.208846  0.012308   \n",
       "DET   0.046083  0.000485  0.003396  0.005700  0.022435  0.637521  0.000243   \n",
       "NUM   0.210114  0.012944  0.001505  0.003010  0.185430  0.353101  0.027694   \n",
       "NOUN  0.029122  0.042678  0.004604  0.013227  0.009610  0.264725  0.043737   \n",
       "PRT   0.013136  0.002299  0.018391  0.100164  0.058128  0.247291  0.001642   \n",
       ".     0.026944  0.057944  0.065603  0.174371  0.080202  0.223213  0.002253   \n",
       "ADV   0.022727  0.006684  0.015040  0.067513  0.030749  0.031751  0.014372   \n",
       "VERB  0.218883  0.005358  0.035717  0.133007  0.022828  0.110645  0.030825   \n",
       "ADJ   0.021070  0.016955  0.000658  0.004774  0.018930  0.698765  0.010864   \n",
       "ADP   0.034564  0.000859  0.069343  0.324066  0.061292  0.322778  0.001503   \n",
       "\n",
       "             .       ADV      VERB       ADJ       ADP  \n",
       "X     0.161326  0.025347  0.205803  0.016738  0.143313  \n",
       "CONJ  0.035415  0.054986  0.157036  0.120224  0.050326  \n",
       "PRON  0.040385  0.034615  0.485769  0.075000  0.023077  \n",
       "DET   0.017220  0.012855  0.039898  0.205433  0.008732  \n",
       "NUM   0.116496  0.002408  0.017459  0.033414  0.036424  \n",
       "NOUN  0.240390  0.016918  0.146850  0.012021  0.176118  \n",
       "PRT   0.042036  0.009852  0.402299  0.084401  0.020361  \n",
       ".     0.093178  0.051996  0.089484  0.044066  0.090655  \n",
       "ADV   0.138035  0.080214  0.344251  0.131016  0.117647  \n",
       "VERB  0.035329  0.081062  0.169035  0.065844  0.091467  \n",
       "ADJ   0.065350  0.004774  0.012346  0.067325  0.078189  \n",
       "ADP   0.039609  0.013740  0.008695  0.106054  0.017497  "
      ]
     },
     "execution_count": 15,
     "metadata": {},
     "output_type": "execute_result"
    }
   ],
   "source": [
    "# convert the matrix to a data frame for better readability\n",
    "tags_df = pd.DataFrame(tags_matrix, columns = list(training_pos_tag_set), index=list(training_pos_tag_set))\n",
    "\n",
    "# dataset glimpse\n",
    "tags_df"
   ]
  },
  {
   "cell_type": "code",
   "execution_count": 16,
   "metadata": {},
   "outputs": [
    {
     "data": {
      "image/png": "[encoded data removed]",
      "text/plain": [
       "<Figure size 1008x576 with 2 Axes>"
      ]
     },
     "metadata": {
      "needs_background": "light"
     },
     "output_type": "display_data"
    }
   ],
   "source": [
    "# heatmap of tags matrix\n",
    "# T(i, j) means P(tag j given tag i)\n",
    "plt.figure(figsize=(14, 8))\n",
    "sns.heatmap(tags_df, annot = True)\n",
    "plt.show()"
   ]
  },
  {
   "cell_type": "code",
   "execution_count": 17,
   "metadata": {},
   "outputs": [
    {
     "data": {
      "image/png": "[encoded data removed]",
      "text/plain": [
       "<Figure size 1008x576 with 2 Axes>"
      ]
     },
     "metadata": {
      "needs_background": "light"
     },
     "output_type": "display_data"
    }
   ],
   "source": [
    "# frequent tags\n",
    "# filter the df to get P(t2, t1) > 0.5\n",
    "\n",
    "tags_frequent = tags_df[tags_df>0.5]\n",
    "plt.figure(figsize=(14, 8))\n",
    "sns.heatmap(tags_frequent, annot = True)\n",
    "plt.show()"
   ]
  },
  {
   "cell_type": "markdown",
   "metadata": {},
   "source": [
    "\\* Build the Vanilla Viterbi based POS tagger *\\"
   ]
  },
  {
   "cell_type": "code",
   "execution_count": 18,
   "metadata": {},
   "outputs": [],
   "source": [
    "# Viterbi Heuristic\n",
    "def Vanilla_Viterbi(words, train_bag = train_tagged_words):\n",
    "    state = []\n",
    "    T = list(set([pair[1] for pair in train_bag]))\n",
    "    \n",
    "    for key, word in enumerate(words):\n",
    "        #initialise list of probability column for a given observation\n",
    "        p = [] \n",
    "        for tag in T:\n",
    "            if key == 0:\n",
    "                transition_p = tags_df.loc['.', tag]\n",
    "            else:\n",
    "                transition_p = tags_df.loc[state[-1], tag]\n",
    "                \n",
    "            # compute emission and state probabilities\n",
    "            emission_p = word_given_tag(words[key], tag)[0]/word_given_tag(words[key], tag)[1]\n",
    "            state_probability = emission_p * transition_p    \n",
    "            p.append(state_probability)\n",
    "            \n",
    "        pmax = max(p)\n",
    "        # getting state for which probability is maximum\n",
    "        state_max = T[p.index(pmax)] \n",
    "        state.append(state_max)\n",
    "    return list(zip(words, state))"
   ]
  },
  {
   "cell_type": "code",
   "execution_count": 19,
   "metadata": {},
   "outputs": [],
   "source": [
    "random.seed(1234)\n",
    "\n",
    "# list of tagged words\n",
    "test_run_base = [tup for sent in test_set for tup in sent]\n",
    "\n",
    "# list of untagged words\n",
    "test_tagged_words = [tup[0] for sent in test_set for tup in sent]"
   ]
  },
  {
   "cell_type": "code",
   "execution_count": null,
   "metadata": {},
   "outputs": [],
   "source": [
    "# tagging the test sentences\n",
    "\n",
    "tagged_seq = Vanilla_Viterbi(test_tagged_words)"
   ]
  },
  {
   "cell_type": "code",
   "execution_count": null,
   "metadata": {},
   "outputs": [],
   "source": [
    "# Let's check the accuracy of the vanilla viterbi algorithm\n",
    "\n",
    "check = [i for i, j in zip(tagged_seq, test_run_base) if i == j]\n",
    "\n",
    "vanilla_viterbi_accuracy = len(check)/len(tagged_seq)\n",
    "\n",
    "print(\"The accuracy of the Vanilla Viterbi Algorithm is -\", vanilla_viterbi_accuracy)"
   ]
  },
  {
   "cell_type": "code",
   "execution_count": null,
   "metadata": {},
   "outputs": [],
   "source": [
    "# Let's have a look at the incorrect tagged cases\n",
    "\n",
    "incorrect_tagged_cases = [[test_run_base[i-1],j] for i, j in enumerate(zip(tagged_seq, test_run_base)) if j[0]!=j[1]]\n",
    "print(len(incorrect_tagged_cases))\n",
    "incorrect_tagged_cases"
   ]
  },
  {
   "cell_type": "markdown",
   "metadata": {},
   "source": [
    "/* Before proceeding for dealing with unknown words, lets first see how many unknown words we have. Unknows words would be */\n",
    "/* those words that are present in the test set but not in the train set. That is the words the algorithm has not seen before.*/"
   ]
  },
  {
   "cell_type": "code",
   "execution_count": null,
   "metadata": {},
   "outputs": [],
   "source": [
    "# Unknown words \n",
    "\n",
    "test_vocabulary_set = set([t for t in test_tagged_words])\n",
    "\n",
    "unknown_words = list(test_vocabulary_set - training_vocabulary_set)\n",
    "print(\"Total Unknown words :\", len(unknown_words))\n",
    "print(\"\\n\")\n",
    "print(\"Unknown Words :\", unknown_words)"
   ]
  },
  {
   "cell_type": "markdown",
   "metadata": {},
   "source": [
    "/* Solve the problem of unknown words\n",
    "Method 1\n",
    "The default Vanilla viterbi algorithm achieved an accuracy of about 90.7%. This approx. 9% loss of accuracy was majorly due to the fact that when the algorithm encountered an unknown word (i.e. not present in the training set, such as 'Twitter'), it assigned an incorrect tag arbitrarily. This is because, for unknown words, the emission probabilities for all candidate tags are 0, so the algorithm arbitrarily chooses (the first) tag.\n",
    "\n",
    "Now lets see how we can minimize this loss by modifying the vanilla viterbi.\n",
    "\n",
    "If a word is not present in the training vocabulary (unknown word), its emission probability will be ZERO. In that case the state probability will inturn be zero. Thus in cases where the algorithm encounters a word which it has not see previously, we can omit the emission probability and only consider the transition probability.\n",
    "\n",
    "The algorithm can be modified to deal the case as below -\n",
    "\n",
    "If word in unknown then\n",
    "\n",
    "consider only the transition_p (emission probability being 0)\n",
    "\n",
    "else\n",
    "\n",
    "consider both the emission and transition probability. */"
   ]
  },
  {
   "cell_type": "code",
   "execution_count": null,
   "metadata": {},
   "outputs": [],
   "source": [
    "# Modified Viterbi Heuristic\n",
    "def Vanilla_Viterbi_for_Unknown_Words(words, train_bag = train_tagged_words):\n",
    "    state = []\n",
    "    T = list(set([pair[1] for pair in train_bag]))\n",
    "    \n",
    "    for key, word in enumerate(words):\n",
    "        #initialise list of probability column for a given observation\n",
    "        p = [] \n",
    "        for tag in T:\n",
    "            if key == 0:\n",
    "                transition_p = tags_df.loc['.', tag]\n",
    "            else:\n",
    "                transition_p = tags_df.loc[state[-1], tag]\n",
    "                \n",
    "            # compute emission and state probabilities\n",
    "            emission_p = word_given_tag(words[key], tag)[0]/word_given_tag(words[key], tag)[1]\n",
    "            \n",
    "            # modification to the original vanilla viterbi algorithm \n",
    "            # to consider unknown words\n",
    "            if word not in training_vocabulary_set:\n",
    "                state_probability = transition_p\n",
    "            else:\n",
    "                state_probability = emission_p * transition_p\n",
    "                \n",
    "            p.append(state_probability)\n",
    "            \n",
    "        pmax = max(p)\n",
    "        # getting state for which probability is maximum\n",
    "        state_max = T[p.index(pmax)] \n",
    "        state.append(state_max)\n",
    "    return list(zip(words, state))"
   ]
  },
  {
   "cell_type": "code",
   "execution_count": null,
   "metadata": {},
   "outputs": [],
   "source": [
    "# tagging the test sentences\n",
    "unknown_word_tagged_seq = Vanilla_Viterbi_for_Unknown_Words(test_tagged_words)\n",
    "\n",
    "# accuracy\n",
    "unknown_word_check = [i for i, j in zip(unknown_word_tagged_seq, test_run_base) if i == j]\n",
    "\n",
    "optimized_viterbi_accuracy = len(unknown_word_check)/len(unknown_word_tagged_seq)\n",
    "\n",
    "print(\"The accuracy of the Vanilla Viterbi Algorithm after modification to handle unknown words is -\", optimized_viterbi_accuracy)"
   ]
  },
  {
   "cell_type": "markdown",
   "metadata": {},
   "source": [
    "/* We see the modified viterbi algorithm performs better than the original vanilla viterbi algorithm. The modified viterbi achieves an accuracy of (approx.) 94.44% comapred to 90.5% of the vanilla viterbi.\n",
    "\n",
    "Still there is a loss of approx. 6%.\n",
    "\n",
    "Now lets see if we can in reduce this loss further.\n",
    "\n",
    "Let's try with some Lexicon and Rule-Based Models for POS Tagging */"
   ]
  },
  {
   "cell_type": "code",
   "execution_count": null,
   "metadata": {},
   "outputs": [],
   "source": [
    "# Unigram Tagger\n",
    "\n",
    "unigram_tagger = nltk.UnigramTagger(train_set)\n",
    "unigram_tagger_accuracy = unigram_tagger.evaluate(test_set)\n",
    "print(\"The accuracy of the Unigram Tagger is -\", unigram_tagger_accuracy)"
   ]
  },
  {
   "cell_type": "code",
   "execution_count": null,
   "metadata": {},
   "outputs": [],
   "source": [
    "# patterns for tagging using a rule based regex tagger -\n",
    "\n",
    "patterns = [\n",
    "    (r'^[aA-zZ].*[0-9]+','NOUN'),  # Alpha Numeric\n",
    "    (r'.*ness$', 'NOUN'),\n",
    "    (r'.*\\'s$', 'NOUN'),              # possessive nouns\n",
    "    (r'.*s$', 'NOUN'),                # plural nouns\n",
    "    (r'.*', 'NOUN'),    \n",
    "    (r'.*ly$', 'ADV'),\n",
    "    (r'^(0|([*|-|$].*))','X'), # Any special character combination\n",
    "    (r'.*ould$', 'X'), # modals\n",
    "    (r'(The|the|A|a|An|an)$', 'DET'),\n",
    "    (r'^([0-9]|[aA-zZ])+\\-[aA-zZ]*$','ADJ'),\n",
    "    (r'.*able$', 'ADJ'), # adjective like 100-megabytes 237-Seats\n",
    "    (r'[aA-zZ]+(ed|ing|es)$', 'VERB'), # Any word ending with 'ing' or 'ed' is a verb\n",
    "    (r'[0-9].?[,\\/]?[0-9]*','NUM')# Numbers \n",
    "    ]"
   ]
  },
  {
   "cell_type": "code",
   "execution_count": null,
   "metadata": {},
   "outputs": [],
   "source": [
    "# rule based RegexpTagger\n",
    "\n",
    "rule_based_tagger = nltk.RegexpTagger(patterns)\n",
    "\n",
    "# unigram tagger backed up by the rule-based tagger\n",
    "rule_based_unigram_tagger = nltk.UnigramTagger(train_set, backoff = rule_based_tagger)\n",
    "\n",
    "accuracy_rule_based_unigram_tagger = rule_based_unigram_tagger.evaluate(test_set)\n",
    "\n",
    "print(\"The accuracy of the Unigram Tagger backed up by the RegexpTagger is -\", accuracy_rule_based_unigram_tagger)"
   ]
  },
  {
   "cell_type": "code",
   "execution_count": null,
   "metadata": {},
   "outputs": [],
   "source": [
    "# Bigram tagger\n",
    "\n",
    "bigram_tagger = nltk.BigramTagger(train_set, backoff = rule_based_unigram_tagger)\n",
    "bigram_tagger.evaluate(test_set)\n",
    "accuracy_bigram_tagger = bigram_tagger.evaluate(test_set)\n",
    "print(\"The accuracy of the Bigram Tagger backed up by the rule_based_unigram_tagger is -\", accuracy_bigram_tagger)"
   ]
  },
  {
   "cell_type": "code",
   "execution_count": null,
   "metadata": {},
   "outputs": [],
   "source": [
    "# trigram tagger\n",
    "\n",
    "trigram_tagger = nltk.TrigramTagger(train_set, backoff = bigram_tagger)\n",
    "trigram_tagger.evaluate(test_set)\n",
    "accuracy_trigram_tagger = trigram_tagger.evaluate(test_set)\n",
    "print(\"The accuracy of the Trigram Tagger backed up by the bigram_tagger is -\", accuracy_trigram_tagger)"
   ]
  },
  {
   "cell_type": "markdown",
   "metadata": {},
   "source": [
    "/* Method 2\n",
    "We see that the Trigram Tagger backed up by the bigram tagger gives an accuracy of about 94.6%. Let's now try to modify the viterbi algorithm to use this trigram tagger as a back-off.\n",
    "\n",
    "When the viterbi algorithm is not able to tag an unknown word, it uses the rule-based tagger. */"
   ]
  },
  {
   "cell_type": "code",
   "execution_count": null,
   "metadata": {},
   "outputs": [],
   "source": [
    "# A trigram tagger backed off by a rule based tagger.\n",
    "\n",
    "def trigram_tagger(word, train_set = train_set):\n",
    "    \n",
    "    patterns = [\n",
    "    (r'[aA-zZ]+(ed|ing|es)$', 'VERB'), # Any word ending with 'ing' or 'ed' is a verb\n",
    "\n",
    "    (r'.*ly$', 'ADV'),\n",
    "        \n",
    "    (r'^([0-9]|[aA-zZ])+\\-[aA-zZ]*$','ADJ'),\n",
    "    (r'.*able$', 'ADJ'), \n",
    "    (r'.*ful$', 'ADJ'),\n",
    "    (r'.*ous$', 'ADJ'),\n",
    "        \n",
    "    (r'^[aA-zZ].*[0-9]+','NOUN'),     # Alpha Numeric\n",
    "    (r'.*ness$', 'NOUN'),\n",
    "    (r'.*\\'s$', 'NOUN'),              # possessive nouns - words ending with 's\n",
    "    (r'.*s$', 'NOUN'),                # plural nouns\n",
    "    (r'.*ers$', 'NOUN'),              # eg.- kinderganteners, autobioghapgers\n",
    "    (r'.*ment$', 'NOUN'),\n",
    "    (r'.*town$', 'NOUN'),\n",
    "        \n",
    "    (r'^(0|([*|-|$].*))','X'), # Any special character combination\n",
    "    (r'.*ould$', 'X'),\n",
    "        \n",
    "    (r'(The|the|A|a|An|an|That|that|This|this|Those|those|These|these)$', 'DET'), # That/this/these/those belong to the category of Demonstrative determiners\n",
    "    (r'[0-9].?[,\\/]?[0-9]*','NUM'), # Numbers \n",
    "        \n",
    "    (r'.*', 'NOUN')\n",
    "    ]\n",
    "\n",
    "    regex_based_tagger = nltk.RegexpTagger(patterns)\n",
    "\n",
    "    # trigram backed up by the regex tagger\n",
    "    trigram_regex_tagger = nltk.TrigramTagger(train_set, backoff = regex_based_tagger)\n",
    "    return trigram_regex_tagger.tag_sents([[(word)]])"
   ]
  },
  {
   "cell_type": "code",
   "execution_count": null,
   "metadata": {},
   "outputs": [],
   "source": [
    "def viterbi_backedup_by_trigram_tagger(words, train_bag = train_tagged_words):\n",
    "    state = []\n",
    "    tag_set = list(set([pair[1] for pair in train_bag]))\n",
    "    \n",
    "    # use the trigram tagger backed up by the rule based tagger\n",
    "    # for unknown words.\n",
    "    for key, word in enumerate(words):\n",
    "        if word not in training_vocabulary_set:\n",
    "            unknown_word_tag = trigram_tagger(word)\n",
    "            for sent in unknown_word_tag:\n",
    "                for tup in sent:\n",
    "                    state.append(tup[1])\n",
    "        else:            \n",
    "            p = [] \n",
    "            for tag in tag_set:\n",
    "                if key == 0:\n",
    "                    transition_p = tags_df.loc['.', tag]\n",
    "                else:\n",
    "                    transition_p = tags_df.loc[state[-1], tag]\n",
    "                \n",
    "            # compute emission and state probabilities\n",
    "                emission_p = word_given_tag(words[key], tag)[0]/word_given_tag(words[key], tag)[1]\n",
    "                state_probability = emission_p * transition_p    \n",
    "                p.append(state_probability)\n",
    "            \n",
    "            pmax = max(p)\n",
    "            # getting state for which probability is maximum\n",
    "            state_max = tag_set[p.index(pmax)] \n",
    "            state.append(state_max)\n",
    "    return list(zip(words, state))"
   ]
  },
  {
   "cell_type": "code",
   "execution_count": null,
   "metadata": {},
   "outputs": [],
   "source": [
    "/* Evaluating tagging accuracy */"
   ]
  },
  {
   "cell_type": "code",
   "execution_count": null,
   "metadata": {},
   "outputs": [],
   "source": [
    "# tagging the test sentences\n",
    "viterbi_trigram_tagged_seq = viterbi_backedup_by_trigram_tagger(test_tagged_words)\n",
    "\n",
    "# accuracy\n",
    "viterbi_trigram_word_check = [i for i, j in zip(viterbi_trigram_tagged_seq, test_run_base) if i == j]\n",
    "\n",
    "viterbi_trigram_accuracy = len(viterbi_trigram_word_check)/len(viterbi_trigram_tagged_seq)\n",
    "\n",
    "print(\"The accuracy of the viterbi_backedup_by_trigram_tagger is -\", viterbi_trigram_accuracy)"
   ]
  },
  {
   "cell_type": "markdown",
   "metadata": {},
   "source": [
    "/* Compare the tagging accuracies of the modifications with the vanilla Viterbi algorithm\n",
    "\n",
    "1. First lets check the tagging accuracy on the test_set data generated using the test_train_split */"
   ]
  },
  {
   "cell_type": "code",
   "execution_count": null,
   "metadata": {},
   "outputs": [],
   "source": [
    "acccuracy_data = [['Vanilla Viterbi', vanilla_viterbi_accuracy*100], \n",
    "                  ['Optimized Vanilla Viterbi', optimized_viterbi_accuracy*100], \n",
    "                  ['Unigram Tagger', unigram_tagger_accuracy*100],\n",
    "                  ['Unigram + RegexpTagger', accuracy_rule_based_unigram_tagger*100],\n",
    "                  ['Bigram Tagger + Unigram_tagger', accuracy_bigram_tagger*100],\n",
    "                  ['Trigram Tagger + Bigram_tagger', accuracy_trigram_tagger*100],\n",
    "                  ['Viterbi + Trigram_tagger', viterbi_trigram_accuracy*100]]\n",
    "\n",
    "acccuracy_data_df = pd.DataFrame(acccuracy_data, columns = ['Tagging_Algorithm', 'Tagging_Accuracy'])\n",
    "\n",
    "acccuracy_data_df.set_index('Tagging_Algorithm', drop = True, inplace = True)\n",
    "\n",
    "acccuracy_data_df"
   ]
  },
  {
   "cell_type": "code",
   "execution_count": null,
   "metadata": {},
   "outputs": [],
   "source": [
    "acccuracy_data_df.plot.line(rot = 90, legend = False)"
   ]
  },
  {
   "cell_type": "markdown",
   "metadata": {},
   "source": [
    "2. Next, lets check the tagging accuracies for the algorithm on the sample test sentences provided -\n"
   ]
  },
  {
   "cell_type": "code",
   "execution_count": null,
   "metadata": {},
   "outputs": [],
   "source": [
    "sample_test_sentences = ['Android is a mobile operating system developed by Google.',\n",
    "\"Android has been the best-selling OS worldwide on smartphones since 2011 and on tablets since 2013.\",\n",
    "\"Google and Twitter made a deal in 2015 that gave Google access to Twitter's firehose.\",\n",
    "\"Twitter is an online news and social networking service on which users post and interact with messages known as tweets.\",\n",
    "\"Before entering politics, Donald Trump was a domineering businessman and a television personality.\",\n",
    "\"The 2018 FIFA World Cup is the 21st FIFA World Cup, an international football tournament contested once every four years.\",\n",
    "\"This is the first World Cup to be held in Eastern Europe and the 11th time that it has been held in Europe.\",\n",
    "\"Show me the cheapest round trips from Dallas to Atlanta\",\n",
    "\"I would like to see flights from Denver to Philadelphia.\",\n",
    "\"Show me the price of the flights leaving Atlanta at about 3 in the afternoon and arriving in San Francisco.\",\n",
    "\"NASA invited social media users to experience the launch of ICESAT-2 Satellite.\"]"
   ]
  },
  {
   "cell_type": "code",
   "execution_count": null,
   "metadata": {},
   "outputs": [],
   "source": [
    "sample_test_tokenized_sents = [word_tokenize(sent) for sent in sample_test_sentences]\n",
    "sample_test_corpus_pos_tags = nltk.pos_tag_sents(sample_test_tokenized_sents, tagset = 'universal')\n",
    "sample_test_corpus_pos_tags"
   ]
  },
  {
   "cell_type": "code",
   "execution_count": null,
   "metadata": {},
   "outputs": [],
   "source": [
    "# list of untagged words from the sample test data provided\n",
    "sample_test_tagged_words = [tup[0] for sent in sample_test_corpus_pos_tags for tup in sent]\n",
    "\n",
    "\n",
    "# list of tagged words\n",
    "sample_test_test_run_base = [tup for sent in sample_test_corpus_pos_tags for tup in sent]"
   ]
  },
  {
   "cell_type": "markdown",
   "metadata": {},
   "source": [
    "/* sample_test_tagged_words */"
   ]
  },
  {
   "cell_type": "markdown",
   "metadata": {},
   "source": [
    "/* 1. Testing the accuracy of Vanilla Viterbi on sample test data */"
   ]
  },
  {
   "cell_type": "code",
   "execution_count": null,
   "metadata": {},
   "outputs": [],
   "source": [
    "# tagging the test sentences\n",
    "sample_test_tagged_seq = Vanilla_Viterbi(sample_test_tagged_words)\n",
    "\n",
    "# Let's check the accuracy of the vanilla viterbi algorithm\n",
    "sample_test_check = [i for i, j in zip(sample_test_tagged_seq, sample_test_test_run_base) if i == j]\n",
    "\n",
    "vanilla_viterbi_accuracy_on_sample_test_data = len(sample_test_check)/len(sample_test_tagged_seq)\n",
    "\n",
    "print(\"The accuracy of the Vanilla Viterbi Algorithm on the sample test data is -\", vanilla_viterbi_accuracy_on_sample_test_data)"
   ]
  },
  {
   "cell_type": "markdown",
   "metadata": {},
   "source": [
    "/* 2. Testing the accuracy of Vanilla_Viterbi_for_Unknown_Words on sample test data */"
   ]
  },
  {
   "cell_type": "code",
   "execution_count": null,
   "metadata": {},
   "outputs": [],
   "source": [
    "# tagging the test sentences\n",
    "sample_test_unknown_word_tagged_seq = Vanilla_Viterbi_for_Unknown_Words(sample_test_tagged_words)\n",
    "\n",
    "# accuracy\n",
    "sample_test_unknown_word_check = [i for i, j in zip(sample_test_unknown_word_tagged_seq, sample_test_test_run_base) if i == j]\n",
    "\n",
    "sample_test_optimized_viterbi_accuracy = len(sample_test_unknown_word_check)/len(sample_test_unknown_word_tagged_seq)\n",
    "\n",
    "print(\"The accuracy of the Vanilla_Viterbi_for_Unknown_Words on the sample test data is -\", sample_test_optimized_viterbi_accuracy)"
   ]
  },
  {
   "cell_type": "markdown",
   "metadata": {},
   "source": [
    "/* 3. Testing the accuracy of viterbi_backedup_by_trigram_tagger on sample test data */"
   ]
  },
  {
   "cell_type": "code",
   "execution_count": null,
   "metadata": {},
   "outputs": [],
   "source": [
    "# tagging the test sentences\n",
    "sample_test_viterbi_trigram_tagged_seq = viterbi_backedup_by_trigram_tagger(sample_test_tagged_words)\n",
    "\n",
    "# accuracy\n",
    "sample_test_viterbi_trigram_check = [i for i, j in zip(sample_test_viterbi_trigram_tagged_seq, sample_test_test_run_base) if i == j]\n",
    "\n",
    "sample_test_viterbi_trigram_accuracy = len(sample_test_viterbi_trigram_check)/len(sample_test_viterbi_trigram_tagged_seq)\n",
    "\n",
    "print(\"The accuracy of the viterbi_backedup_by_trigram_tagger on the sample test data is -\", sample_test_viterbi_trigram_accuracy)"
   ]
  },
  {
   "cell_type": "markdown",
   "metadata": {},
   "source": [
    "/* Comparing the accuracies of the 3 algorithm on sample test data */"
   ]
  },
  {
   "cell_type": "code",
   "execution_count": null,
   "metadata": {},
   "outputs": [],
   "source": [
    "acccuracy_on_sample_test_data = [['Vanilla Viterbi', vanilla_viterbi_accuracy_on_sample_test_data*100], \n",
    "                  ['Optimized Vanilla Viterbi', sample_test_optimized_viterbi_accuracy*100], \n",
    "                  ['Viterbi + Trigram_tagger', sample_test_viterbi_trigram_accuracy*100]]\n",
    "\n",
    "sample_test_data_acccuracy_df = pd.DataFrame(acccuracy_on_sample_test_data, columns = ['Tagging_Algorithm', 'Tagging_Accuracy'])\n",
    "\n",
    "sample_test_data_acccuracy_df.set_index('Tagging_Algorithm', drop = True, inplace = True)\n",
    "\n",
    "sample_test_data_acccuracy_df"
   ]
  },
  {
   "cell_type": "code",
   "execution_count": null,
   "metadata": {},
   "outputs": [],
   "source": [
    "sample_test_data_acccuracy_df.plot.line(rot = 90, legend = False)"
   ]
  },
  {
   "cell_type": "markdown",
   "metadata": {},
   "source": [
    "List down cases which were incorrectly tagged by original POS tagger & got corrected by your modifications -"
   ]
  },
  {
   "cell_type": "code",
   "execution_count": null,
   "metadata": {},
   "outputs": [],
   "source": [
    "# test sentences\n",
    "\n",
    "test_sentence_1 = 'Android is a mobile operating system developed by Google.'\n",
    "test_sentence_2 = 'Android has been the best-selling OS worldwide on smartphones since 2011 and on tablets since 2013.'\n",
    "test_sentence_3 = \"Google and Twitter made a deal in 2015 that gave Google access to Twitter's firehose.\"\n",
    "test_sentence_4 = 'Twitter is an online news and social networking service on which users post and interact with messages known as tweets.'\n",
    "test_sentence_5 = 'Before entering politics, Donald Trump was a domineering businessman and a television personality.'\n",
    "test_sentence_6 = 'The 2018 FIFA World Cup is the 21st FIFA World Cup, an international football tournament contested once every four years.'\n",
    "test_sentence_7 = 'This is the first World Cup to be held in Eastern Europe and the 11th time that it has been held in Europe.'\n",
    "test_sentence_8 = 'Show me the cheapest round trips from Dallas to Atlanta'\n",
    "test_sentence_9 = 'I would like to see flights from Denver to Philadelphia.'\n",
    "test_sentence_10 = 'Show me the price of the flights leaving Atlanta at about 3 in the afternoon and arriving in San Francisco.'\n",
    "test_sentence_11 = 'NASA invited social media users to experience the launch of ICESAT-2 Satellite.'"
   ]
  },
  {
   "cell_type": "markdown",
   "metadata": {},
   "source": [
    "/* Case - 1 */"
   ]
  },
  {
   "cell_type": "code",
   "execution_count": null,
   "metadata": {},
   "outputs": [],
   "source": [
    "# test_sentence_1 = 'Android is a mobile operating system developed by Google.'\n",
    "\n",
    "words_test_sentence_1 = nltk.word_tokenize(test_sentence_1)\n",
    "\n",
    "# pos tags with Vanilla_Viterbi\n",
    "pos_tagged_sequence_with_vanilla_viterbi = Vanilla_Viterbi(words_test_sentence_1)\n",
    "print(\"Tagging sequence with Vanilla_Viterbi -\\n\\n\", pos_tagged_sequence_with_vanilla_viterbi)\n",
    "\n",
    "print('\\n')\n",
    "print('-'*120)\n",
    "\n",
    "# pos tags with viterbi_backedup_by_trigram_tagger\n",
    "pos_tagged_sequence_with_viterbi_trigram = viterbi_backedup_by_trigram_tagger(words_test_sentence_1)\n",
    "print(\"Tagging sequence with viterbi_backedup_by_trigram_tagger -\\n\\n\", pos_tagged_sequence_with_viterbi_trigram)"
   ]
  },
  {
   "cell_type": "code",
   "execution_count": null,
   "metadata": {},
   "outputs": [],
   "source": [
    "cols = ['vanilla_viterbi_tags', 'viterbi_trigram_tags_with_corrections']\n",
    "tags_correction_df_1 = pd.DataFrame(columns = cols)\n",
    "tags_correction_df_1 = tags_correction_df_1.fillna(0)\n",
    "\n",
    "tags_correction_df_1.vanilla_viterbi_tags = [tup for tup in pos_tagged_sequence_with_vanilla_viterbi]\n",
    "tags_correction_df_1.viterbi_trigram_tags_with_corrections = [tup for tup in pos_tagged_sequence_with_viterbi_trigram]\n",
    "\n",
    "tags_correction_df_1"
   ]
  },
  {
   "cell_type": "markdown",
   "metadata": {},
   "source": [
    "/* As we see above in the sample test sentence 1 the word 'Android' was tagged as PRT by vanilla viterbi. The modified algorithm of viterbi backed up by trigram tagger corrected this and tagged 'Android' as NOUN */"
   ]
  },
  {
   "cell_type": "markdown",
   "metadata": {},
   "source": [
    "/* Case - 2 */"
   ]
  },
  {
   "cell_type": "code",
   "execution_count": null,
   "metadata": {},
   "outputs": [],
   "source": [
    "# test_sentence_6 = 'The 2018 FIFA World Cup is the 21st FIFA World Cup, \n",
    "#                   an international football tournament contested once every four years.'\n",
    "\n",
    "words_test_sentence_6 = nltk.word_tokenize(test_sentence_6)\n",
    "\n",
    "# pos tags with Vanilla_Viterbi\n",
    "pos_tagged_sequence_with_vanilla_viterbi_6 = Vanilla_Viterbi(words_test_sentence_6)\n",
    "print(\"Tagging sequence with Vanilla_Viterbi -\\n\\n\", pos_tagged_sequence_with_vanilla_viterbi_6)\n",
    "\n",
    "print('\\n')\n",
    "print('-'*120)\n",
    "\n",
    "# pos tags with viterbi_backedup_by_trigram_tagger\n",
    "pos_tagged_sequence_with_viterbi_trigram_6 = viterbi_backedup_by_trigram_tagger(words_test_sentence_6)\n",
    "print(\"Tagging sequence with viterbi_backedup_by_trigram_tagger -\\n\\n\", pos_tagged_sequence_with_viterbi_trigram_6)"
   ]
  },
  {
   "cell_type": "code",
   "execution_count": null,
   "metadata": {},
   "outputs": [],
   "source": [
    "tags_correction_df_6 = pd.DataFrame(columns = cols)\n",
    "tags_correction_df_6 = tags_correction_df_6.fillna(0)\n",
    "\n",
    "tags_correction_df_6.vanilla_viterbi_tags = [tup for tup in pos_tagged_sequence_with_vanilla_viterbi_6]\n",
    "tags_correction_df_6.viterbi_trigram_tags_with_corrections = [tup for tup in pos_tagged_sequence_with_viterbi_trigram_6]\n",
    "\n",
    "tags_correction_df_6"
   ]
  },
  {
   "cell_type": "markdown",
   "metadata": {},
   "source": [
    "/* Case - 3 */"
   ]
  },
  {
   "cell_type": "code",
   "execution_count": null,
   "metadata": {},
   "outputs": [],
   "source": [
    "# test_sentence_8 = 'Show me the cheapest round trips from Dallas to Atlanta'\n",
    "\n",
    "words_test_sentence_8 = nltk.word_tokenize(test_sentence_8)\n",
    "\n",
    "# pos tags with Vanilla_Viterbi\n",
    "pos_tagged_sequence_with_vanilla_viterbi_8 = Vanilla_Viterbi(words_test_sentence_8)\n",
    "print(\"Tagging sequence with Vanilla_Viterbi -\\n\\n\", pos_tagged_sequence_with_vanilla_viterbi_8)\n",
    "\n",
    "print('\\n')\n",
    "print('-'*120)\n",
    "\n",
    "# pos tags with viterbi_backedup_by_trigram_tagger\n",
    "pos_tagged_sequence_with_viterbi_trigram_8 = viterbi_backedup_by_trigram_tagger(words_test_sentence_8)\n",
    "print(\"Tagging sequence with viterbi_backedup_by_trigram_tagger -\\n\\n\", pos_tagged_sequence_with_viterbi_trigram_8)"
   ]
  },
  {
   "cell_type": "code",
   "execution_count": null,
   "metadata": {},
   "outputs": [],
   "source": [
    "tags_correction_df_8 = pd.DataFrame(columns = cols)\n",
    "tags_correction_df_8 = tags_correction_df_8.fillna(0)\n",
    "\n",
    "tags_correction_df_8.vanilla_viterbi_tags = [tup for tup in pos_tagged_sequence_with_vanilla_viterbi_8]\n",
    "tags_correction_df_8.viterbi_trigram_tags_with_corrections = [tup for tup in pos_tagged_sequence_with_viterbi_trigram_8]\n",
    "\n",
    "tags_correction_df_8"
   ]
  },
  {
   "cell_type": "markdown",
   "metadata": {},
   "source": [
    "/* As we see in the sample test sentence 8, the vanilla viterbi tagged 'trips' as PRT. This was corrected by the modified viterbi algorithm (backed up by the trigram tagger) and tagged as NOUN.¶\n",
    "Now lets see the tags and corrections for all the sample test sentences with both the methods.\n",
    "Method 1 - We used only the transition probability for unknown words.\n",
    "Method 2 - We used the viterbi algorithm and backed it up with the trigram tagger which was inturn backed up by the rule based regex tagger.*/"
   ]
  },
  {
   "cell_type": "code",
   "execution_count": null,
   "metadata": {},
   "outputs": [],
   "source": [
    "# Default Vanilla Viterbi\n",
    "# pos tags with Vanilla_Viterbi\n",
    "sample_test_tagged_sequence_with_vanilla_viterbi = Vanilla_Viterbi(sample_test_tagged_words)\n",
    "print(\"Tagging sequence with Vanilla_Viterbi -\\n\\n\", sample_test_tagged_sequence_with_vanilla_viterbi)\n",
    "\n",
    "print('\\n')\n",
    "print('-'*120)\n",
    "\n",
    "# Method 1 - pos tags with Vanilla_Viterbi_for_Unknown_Words\n",
    "sample_test_tagged_sequence_unknown_words = Vanilla_Viterbi_for_Unknown_Words(sample_test_tagged_words)\n",
    "print(\"Tagging sequence with viterbi using only transition probability for unknown words -\\n\\n\", \n",
    "      sample_test_tagged_sequence_unknown_words)\n",
    "\n",
    "print('\\n')\n",
    "print('-'*120)\n",
    "\n",
    "# Method 2 - pos tags with viterbi_backedup_by_trigram_tagger\n",
    "sample_test_tagged_sequence_with_viterbi_trigram = viterbi_backedup_by_trigram_tagger(sample_test_tagged_words)\n",
    "print(\"Tagging sequence with viterbi_backedup_by_trigram_tagger -\\n\\n\", sample_test_tagged_sequence_with_viterbi_trigram)"
   ]
  },
  {
   "cell_type": "code",
   "execution_count": null,
   "metadata": {},
   "outputs": [],
   "source": [
    "# A dataframe showing - \n",
    "# 1. the actual tags using nltk.pos_tag_sent\n",
    "# 2. words as tagged by vanilla viterbi\n",
    "# 3. words as tagged by Vanilla_Viterbi_for_Unknown_Words - METHOD - 1\n",
    "# 4. words as tagged by viterbi_backedup_by_trigram_tagger - METHOD - 2\n",
    "\n",
    "cols1 = ['actual_tags', 'as_tagged_by_vanilla_viterbi', 'as_tagged_by_Vanilla_Viterbi_for_Unknown_Words',\n",
    "            'as_tagged_by_Vanilla_Viterbi_backed_by_trigram_tagger']\n",
    "\n",
    "tags_comparison_df = pd.DataFrame(columns = cols1)\n",
    "tags_comparison_df = tags_comparison_df.fillna(0)\n",
    "\n",
    "# Actual tags\n",
    "tags_comparison_df.actual_tags = [tup for tup in sample_test_test_run_base]\n",
    "\n",
    "# tags by vanilla viterbi\n",
    "tags_comparison_df.as_tagged_by_vanilla_viterbi = [tup for tup in sample_test_tagged_sequence_with_vanilla_viterbi]\n",
    "\n",
    "# tags by Vanilla_Viterbi_for_Unknown_Words - METHOD - 1\n",
    "tags_comparison_df.as_tagged_by_Vanilla_Viterbi_for_Unknown_Words = [tup for tup in sample_test_tagged_sequence_unknown_words]\n",
    "\n",
    "# tags by viterbi_backedup_by_trigram_tagger - METHOD - 2\n",
    "tags_comparison_df.as_tagged_by_Vanilla_Viterbi_backed_by_trigram_tagger = [tup for tup in \n",
    "                                                                            sample_test_tagged_sequence_with_viterbi_trigram]\n",
    "\n",
    "tags_comparison_df[tags_comparison_df.as_tagged_by_vanilla_viterbi != \n",
    "                   tags_comparison_df.as_tagged_by_Vanilla_Viterbi_backed_by_trigram_tagger]"
   ]
  },
  {
   "cell_type": "markdown",
   "metadata": {},
   "source": [
    "/* Conclusion */"
   ]
  },
  {
   "cell_type": "code",
   "execution_count": null,
   "metadata": {},
   "outputs": [],
   "source": [
    "Thus we see that most of the words that were incorrectly tagged by the vanilla viterbi algorithm were corrected by the viterbi algorithm backed up by the trigram tagger.\n",
    "In this analysis we used 2 modification techniques for the original vanilla viterbi -\n",
    "\n",
    "Method 1 -\n",
    "- We used only the transition probability for unknown words.\n",
    "- This method showed an increase in the accuracy (94.4%) but still had some incorrect classification.\n",
    "\n",
    "- The accuracy could be increased further and we turned two a second modification in method-2 below.\n",
    "Method 2 -\n",
    "- We used the viterbi algorithm and backed it up with the trigram tagger which was inturn backed up by the rule based \n",
    "regex tagger.\n",
    "- This gave us an accuracy of 95.82% on the test data.\n",
    "- Also on testing this model on the provided sample test data, it achieved an accuracy of 92.81% and comes out to be \n",
    "the winner."
   ]
  },
  {
   "cell_type": "code",
   "execution_count": null,
   "metadata": {},
   "outputs": [],
   "source": []
  },
  {
   "cell_type": "code",
   "execution_count": null,
   "metadata": {},
   "outputs": [],
   "source": []
  },
  {
   "cell_type": "code",
   "execution_count": null,
   "metadata": {},
   "outputs": [],
   "source": []
  }
 ],
 "metadata": {
  "kernelspec": {
   "display_name": "Python 3",
   "language": "python",
   "name": "python3"
  },
  "language_info": {
   "codemirror_mode": {
    "name": "ipython",
    "version": 3
   },
   "file_extension": ".py",
   "mimetype": "text/x-python",
   "name": "python",
   "nbconvert_exporter": "python",
   "pygments_lexer": "ipython3",
   "version": "3.8.5"
  }
 },
 "nbformat": 4,
 "nbformat_minor": 4
}
